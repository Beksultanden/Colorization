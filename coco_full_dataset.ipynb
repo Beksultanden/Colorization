{
 "cells": [
  {
   "cell_type": "code",
   "execution_count": 1,
   "id": "e38fde8d-090f-4135-80c7-c6aedced7898",
   "metadata": {},
   "outputs": [],
   "source": [
    "from os import listdir\n",
    "from os.path import isfile, join\n",
    "\n",
    "import torch\n",
    "import torch.utils.data as Data\n",
    "import torchvision.transforms as transforms\n",
    "from image_util import read_to_pil  # убедись, что эта функция загружает изображения\n",
    "\n",
    "class CocoFullDataset(Data.Dataset):\n",
    "    def __init__(self, opt):\n",
    "        self.IMAGE_DIR = opt.test_img_dir\n",
    "        self.IMAGE_ID_LIST = [f for f in listdir(self.IMAGE_DIR) if isfile(join(self.IMAGE_DIR, f))]\n",
    "\n",
    "        self.transforms = transforms.Compose([\n",
    "            transforms.Resize((opt.fineSize, opt.fineSize), interpolation=2),\n",
    "            transforms.ToTensor()\n",
    "        ])\n",
    "\n",
    "    def __getitem__(self, index):\n",
    "        image_path = join(self.IMAGE_DIR, self.IMAGE_ID_LIST[index])\n",
    "        img = read_to_pil(image_path)  # загружаем изображение\n",
    "        img_tensor = self.transforms(img)\n",
    "\n",
    "        output = {\n",
    "            'full_img': img_tensor,\n",
    "            'file_id': self.IMAGE_ID_LIST[index].split('.')[0]\n",
    "        }\n",
    "        return output\n",
    "\n",
    "    def __len__(self):\n",
    "        return len(self.IMAGE_ID_LIST)\n"
   ]
  }
 ],
 "metadata": {
  "kernelspec": {
   "display_name": "Python 3 (ipykernel)",
   "language": "python",
   "name": "python3"
  },
  "language_info": {
   "codemirror_mode": {
    "name": "ipython",
    "version": 3
   },
   "file_extension": ".py",
   "mimetype": "text/x-python",
   "name": "python",
   "nbconvert_exporter": "python",
   "pygments_lexer": "ipython3",
   "version": "3.9.21"
  }
 },
 "nbformat": 4,
 "nbformat_minor": 5
}
