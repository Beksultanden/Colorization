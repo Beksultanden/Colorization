{
 "cells": [
  {
   "cell_type": "code",
   "execution_count": null,
   "id": "7436a17c-a993-4119-abc0-1b41cb05ee30",
   "metadata": {},
   "outputs": [],
   "source": [
    "import os\n",
    "from os.path import join\n",
    "import torch\n",
    "from tqdm import tqdm\n",
    "from options.train_options import TestOptions\n",
    "from models import create_model\n",
    "from util import util\n",
    "import torchvision.transforms as transforms\n",
    "\n",
    "# Используем первую доступную GPU\n",
    "os.environ[\"CUDA_VISIBLE_DEVICES\"] = \"0\"\n",
    "torch.backends.cudnn.benchmark = True\n",
    "\n",
    "if __name__ == '__main__':\n",
    "    # Загружаем параметры тестирования\n",
    "    opt = TestOptions().parse()\n",
    "    \n",
    "    # Создаём папку для сохранения результатов, если её нет\n",
    "    save_img_path = opt.results_img_dir\n",
    "    os.makedirs(save_img_path, exist_ok=True)\n",
    "    \n",
    "    # Указываем размер batch'а (должен быть 1 для обработки изображений по одному)\n",
    "    opt.batch_size = 1\n",
    "\n",
    "    # Загружаем тестовый датасет\n",
    "    from datasets import FullColorizationDataset  # Используем обычный датасет, а не fusion\n",
    "    dataset = FullColorizationDataset(opt)\n",
    "    dataset_loader = torch.utils.data.DataLoader(dataset, batch_size=1, num_workers=2)\n",
    "\n",
    "    print(f'# Testing images = {len(dataset)}')\n",
    "\n",
    "    # Создаём модель и загружаем веса первого этапа (Full Colorization)\n",
    "    model = create_model(opt)\n",
    "    model.setup_to_test('coco_full')\n",
    "\n",
    "    # Проходим по датасету и раскрашиваем изображения\n",
    "    for data_raw in tqdm(dataset_loader, dynamic_ncols=True):\n",
    "        img_data = util.get_colorization_data(data_raw['full_img'], opt, ab_thresh=0, p=opt.sample_p)\n",
    "        model.set_input(img_data)\n",
    "        model.forward()\n",
    "        model.save_current_imgs(join(save_img_path, data_raw['file_id'][0] + '.png'))\n",
    "\n",
    "    print(f'Colorized images saved in {save_img_path}')\n"
   ]
  }
 ],
 "metadata": {
  "kernelspec": {
   "display_name": "Python 3 (ipykernel)",
   "language": "python",
   "name": "python3"
  },
  "language_info": {
   "codemirror_mode": {
    "name": "ipython",
    "version": 3
   },
   "file_extension": ".py",
   "mimetype": "text/x-python",
   "name": "python",
   "nbconvert_exporter": "python",
   "pygments_lexer": "ipython3",
   "version": "3.9.21"
  }
 },
 "nbformat": 4,
 "nbformat_minor": 5
}
